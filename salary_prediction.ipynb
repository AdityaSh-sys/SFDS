{
 "cells": [
  {
   "cell_type": "code",
   "execution_count": 16,
   "metadata": {},
   "outputs": [],
   "source": [
    "import pandas as pd\n",
    "import numpy as np\n",
    "import matplotlib.pyplot as plt"
   ]
  },
  {
   "cell_type": "code",
   "execution_count": 17,
   "metadata": {},
   "outputs": [],
   "source": [
    "#for generating random values using numpy library\n",
    "#you have to use np.random library\n",
    "experience = np.random.randint(low=2,high=11,size=500) #generating random values for experience"
   ]
  },
  {
   "cell_type": "code",
   "execution_count": null,
   "metadata": {},
   "outputs": [],
   "source": [
    "plt.hist(experience)"
   ]
  },
  {
   "cell_type": "code",
   "execution_count": 19,
   "metadata": {},
   "outputs": [],
   "source": [
    "salary = 2*experience + 3 + np.random.normal(loc=0,scale=2.5,size=500)"
   ]
  },
  {
   "cell_type": "code",
   "execution_count": null,
   "metadata": {},
   "outputs": [],
   "source": [
    "plt.scatter(experience,salary)\n",
    "plt.xlabel(\"No. of years of experience (x)\")\n",
    "plt.ylabel(\"Salary in Lakhs (y)\")\n"
   ]
  },
  {
   "cell_type": "code",
   "execution_count": null,
   "metadata": {},
   "outputs": [],
   "source": [
    "salary"
   ]
  },
  {
   "cell_type": "code",
   "execution_count": 22,
   "metadata": {},
   "outputs": [],
   "source": [
    "training_data = pd.DataFrame(data={\"x(experience)\":experience,\"y/(salary)\":salary})"
   ]
  },
  {
   "cell_type": "code",
   "execution_count": null,
   "metadata": {},
   "outputs": [],
   "source": [
    "training_data"
   ]
  },
  {
   "cell_type": "code",
   "execution_count": 24,
   "metadata": {},
   "outputs": [],
   "source": [
    "x=np.array(training_data[\"x(experience)\"])\n",
    "y=np.array(training_data[\"y/(salary)\"])\n"
   ]
  },
  {
   "cell_type": "code",
   "execution_count": null,
   "metadata": {},
   "outputs": [],
   "source": [
    "np.shape(x)"
   ]
  },
  {
   "cell_type": "code",
   "execution_count": 26,
   "metadata": {},
   "outputs": [],
   "source": [
    "def nll(theta0,theta1):\n",
    "    \n",
    "    x = np.array(training_data[\"x(experience)\"])\n",
    "    y=np.array(training_data[\"y/(salary)\"])\n",
    "    mu_y_condition_x = theta0 + (theta1*x)\n",
    "    squared_error = (y - mu_y_condition_x)**2\n",
    "    mse = np.mean(squared_error)\n",
    "    return (1/2)*mse\n",
    "     "
   ]
  },
  {
   "cell_type": "code",
   "execution_count": 27,
   "metadata": {},
   "outputs": [],
   "source": [
    "def del_by_del_theta(theta0_initial,theta1_initial):\n",
    "\n",
    "    x = np.array(training_data[\"x(experience)\"])\n",
    "    y=np.array(training_data[\"y/(salary)\"])\n",
    "\n",
    "    mu_y_condition_x = theta0_initial + (theta1_initial*x)\n",
    "    error = mu_y_condition_x - y \n",
    "    #error = np.reshape(error,(500,1))\n",
    "    #or\n",
    "    error = error.reshape(500,1)     #used to make it a matrix by adding a dimention (500,)->(500,1) \n",
    "    #or\n",
    "    #error = np.expand_dims(error,-1)  \n",
    "    error_transpose = np.transpose(error)\n",
    "    x = np.expand_dims(x,-1)\n",
    "    #print(np.shape(x))\n",
    "\n",
    "    del_by_del_theta1 = (1/error.shape[0])*np.matmul(error_transpose,x)\n",
    "    del_by_del_theta0 = (np.mean(error))\n",
    "\n",
    "    return [del_by_del_theta0, del_by_del_theta1]"
   ]
  },
  {
   "cell_type": "code",
   "execution_count": null,
   "metadata": {},
   "outputs": [],
   "source": [
    "epsilon = 10**(-2)\n",
    "epoch_counter = 0\n",
    "theta0_initial = 0\n",
    "theta1_initial = 0\n",
    "tol = 10**(-7)\n",
    "\n",
    "while True:\n",
    "\n",
    "    initial_gradients = del_by_del_theta(theta0_initial,theta1_initial)\n",
    "\n",
    "    theta0_final = theta0_initial - (epsilon * initial_gradients[0])\n",
    "    theta1_final = theta1_initial - (epsilon * initial_gradients[1])\n",
    "\n",
    "    nll_initial_value = nll(theta0_initial,theta1_initial)\n",
    "    nll_final_value = nll(theta0_final,theta1_final)\n",
    "\n",
    "    if abs(nll_initial_value - nll_final_value) < tol:\n",
    "        break\n",
    "\n",
    "    epoch_counter += 1\n",
    "\n",
    "    theta0_initial = theta0_final\n",
    "    theta1_initial = theta1_final\n",
    "\n",
    "    print(\"Epoch # {}, NLL Value = {}\".format(epoch_counter,nll_initial_value))\n",
    "\n",
    "print(\"Final Theta0 = {}, Final Theta1 = {}\".format(theta0_final,theta1_final))\n",
    "    "
   ]
  },
  {
   "cell_type": "code",
   "execution_count": null,
   "metadata": {},
   "outputs": [],
   "source": [
    "x_experience = 0\n",
    "predicted_salary = theta0_final + theta1_final * x_experience\n",
    "predicted_salary"
   ]
  }
 ],
 "metadata": {
  "kernelspec": {
   "display_name": ".venv",
   "language": "python",
   "name": "python3"
  },
  "language_info": {
   "codemirror_mode": {
    "name": "ipython",
    "version": 3
   },
   "file_extension": ".py",
   "mimetype": "text/x-python",
   "name": "python",
   "nbconvert_exporter": "python",
   "pygments_lexer": "ipython3",
   "version": "3.10.12"
  }
 },
 "nbformat": 4,
 "nbformat_minor": 2
}
